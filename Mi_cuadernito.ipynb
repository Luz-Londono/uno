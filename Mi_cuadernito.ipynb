{
  "nbformat": 4,
  "nbformat_minor": 0,
  "metadata": {
    "colab": {
      "name": "Mi cuadernito.ipynb",
      "provenance": []
    },
    "kernelspec": {
      "name": "python3",
      "display_name": "Python 3"
    }
  },
  "cells": [
    {
      "cell_type": "markdown",
      "metadata": {
        "id": "vKPpA3Jq0lIN"
      },
      "source": [
        "# La nostalgía del melómano"
      ]
    },
    {
      "cell_type": "markdown",
      "metadata": {
        "id": "oysAGogX0vog"
      },
      "source": [
        "mi libro favorito\r\n",
        "\r\n",
        "[Venta en librería nacional](https://librerianacional.com/producto/la-nostalgia-del-melomano)\r\n",
        "\r\n",
        "![La nostalgía](data:image/jpeg;base64,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)\r\n",
        "\r\n",
        "*Que tu nunca podras abarcar la musica en un solo instante, que tienes que esperar mientras transcurre, ir escuchando una nota detras de otra*\r\n",
        "\r\n",
        "**Que tu nunca podras abarcar la musica en un solo instante, que tienes que esperar mientras transcurre, ir escuchando una nota detras de otra**\r\n",
        "\r\n",
        "***Que tu nunca podras abarcar la musica en un solo instante, que tienes que esperar mientras transcurre, ir escuchando una nota detras de otra***\r\n",
        "\r\n",
        "> Ese día no viniste a cocodrilo discos"
      ]
    },
    {
      "cell_type": "markdown",
      "metadata": {
        "id": "C2Hw9E0AWs_w"
      },
      "source": [
        "# Lenguaje LaTex"
      ]
    },
    {
      "cell_type": "markdown",
      "metadata": {
        "id": "TVzi9CeDWz9Z"
      },
      "source": [
        "El lenguaje LaTex se usa para colocar ecuaciones matemáticas de forma profesional.\r\n",
        "\r\n",
        "Es el lenguaje estándar usado por la mayoría de los científicos en el mundo.\r\n",
        "\r\n",
        "$$y=x^2$$\r\n",
        "\r\n",
        "$$\\frac{dC}{dt}=kC$$"
      ]
    },
    {
      "cell_type": "code",
      "metadata": {
        "colab": {
          "base_uri": "https://localhost:8080/"
        },
        "id": "DRhvukzrakZS",
        "outputId": "f840e8c2-1914-439c-aeac-a793550d7458"
      },
      "source": [
        "print(\"Helo friend...Hello friend?\")"
      ],
      "execution_count": 2,
      "outputs": [
        {
          "output_type": "stream",
          "text": [
            "Helo friend...Hello friend?\n"
          ],
          "name": "stdout"
        }
      ]
    }
  ]
}